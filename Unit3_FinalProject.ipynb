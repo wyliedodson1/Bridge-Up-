{
 "cells": [
  {
   "cell_type": "code",
   "execution_count": 1,
   "metadata": {},
   "outputs": [],
   "source": [
    "#open the files\n",
    "\n",
    "alligator_dna = open(\"American_Alligator_DNA.txt\").read()\n",
    "turtle_dna = open(\"Leatherback_Sea_Turtle_DNA.txt\").read()\n",
    "chicken_dna = open(\"Red_Junglefowl_DNA.txt\").read() "
   ]
  },
  {
   "cell_type": "code",
   "execution_count": 52,
   "metadata": {},
   "outputs": [
    {
     "name": "stdout",
     "output_type": "stream",
     "text": [
      "26.919900908340217\n",
      "29.31461601981833\n",
      "24.15026833631485\n"
     ]
    }
   ],
   "source": [
    "def Compare(animal1, animal2):\n",
    "    differences = 0\n",
    "    short_len=animal1 #this was a guess \n",
    "    for c, i in enumerate(animal1):\n",
    "        if c== len(animal2):\n",
    "            short_len==len(animal2) #if animal 2 was shorter, this corrects short_len\n",
    "            break\n",
    "        if i!= animal2[c]:\n",
    "            differences += 1\n",
    "    return differences/ len(short_len)*100\n",
    "    \n",
    "print(Compare(alligator_dna, turtle_dna))\n",
    "print(Compare(alligator_dna, chicken_dna))\n",
    "print(Compare(turtle_dna, chicken_dna))"
   ]
  },
  {
   "cell_type": "markdown",
   "metadata": {},
   "source": [
    "### turtle vs. alligator "
   ]
  },
  {
   "cell_type": "code",
   "execution_count": 31,
   "metadata": {},
   "outputs": [
    {
     "name": "stdout",
     "output_type": "stream",
     "text": [
      "326\n"
     ]
    }
   ],
   "source": [
    "differences = 0\n",
    "for c, i in enumerate(alligator_dna):\n",
    "    if c== len(turtle_dna):\n",
    "        break\n",
    "    if i!= turtle_dna[c]:\n",
    "        differences += 1\n",
    "print(differences)"
   ]
  },
  {
   "cell_type": "code",
   "execution_count": 4,
   "metadata": {},
   "outputs": [
    {
     "name": "stdout",
     "output_type": "stream",
     "text": [
      "29.159212880143116\n"
     ]
    }
   ],
   "source": [
    "ta= differences/ len(turtle_dna)*100\n",
    "print(ta)"
   ]
  },
  {
   "cell_type": "markdown",
   "metadata": {},
   "source": [
    "### chicken vs. alligator "
   ]
  },
  {
   "cell_type": "code",
   "execution_count": 5,
   "metadata": {
    "scrolled": true
   },
   "outputs": [
    {
     "name": "stdout",
     "output_type": "stream",
     "text": [
      "355\n"
     ]
    }
   ],
   "source": [
    "differences = 0\n",
    "for c, i in enumerate(alligator_dna):\n",
    "    if c== len(chicken_dna):\n",
    "        break\n",
    "    if i!= chicken_dna[c]:\n",
    "        differences += 1\n",
    "print(differences)"
   ]
  },
  {
   "cell_type": "code",
   "execution_count": 6,
   "metadata": {},
   "outputs": [
    {
     "name": "stdout",
     "output_type": "stream",
     "text": [
      "31.49955634427684\n"
     ]
    }
   ],
   "source": [
    "ca= differences/len(chicken_dna)*100\n",
    "print(ca)"
   ]
  },
  {
   "cell_type": "markdown",
   "metadata": {},
   "source": [
    "### turtle vs. chicken "
   ]
  },
  {
   "cell_type": "code",
   "execution_count": 7,
   "metadata": {},
   "outputs": [
    {
     "name": "stdout",
     "output_type": "stream",
     "text": [
      "270\n"
     ]
    }
   ],
   "source": [
    "differences = 0\n",
    "for c, i in enumerate(chicken_dna):\n",
    "    if c== len(turtle_dna):\n",
    "        break\n",
    "    if i!= turtle_dna[c]:\n",
    "        differences += 1\n",
    "print(differences)"
   ]
  },
  {
   "cell_type": "code",
   "execution_count": 8,
   "metadata": {},
   "outputs": [
    {
     "name": "stdout",
     "output_type": "stream",
     "text": [
      "24.15026833631485\n"
     ]
    }
   ],
   "source": [
    "tc= differences/ len(turtle_dna)*100\n",
    "print(tc)"
   ]
  },
  {
   "cell_type": "code",
   "execution_count": 9,
   "metadata": {
    "scrolled": true
   },
   "outputs": [
    {
     "name": "stdout",
     "output_type": "stream",
     "text": [
      "1127\n",
      "1118\n"
     ]
    }
   ],
   "source": [
    "print(len(chicken_dna))\n",
    "print(len(turtle_dna))"
   ]
  },
  {
   "cell_type": "code",
   "execution_count": 10,
   "metadata": {},
   "outputs": [],
   "source": [
    "import matplotlib.pyplot as plt"
   ]
  },
  {
   "cell_type": "code",
   "execution_count": 25,
   "metadata": {},
   "outputs": [
    {
     "data": {
      "text/plain": [
       "Text(0.5, 1.0, \"Differences in Animal's DNA\")"
      ]
     },
     "execution_count": 25,
     "metadata": {},
     "output_type": "execute_result"
    },
    {
     "data": {
      "image/png": "[encoded data removed]",
      "text/plain": [
       "<Figure size 432x288 with 1 Axes>"
      ]
     },
     "metadata": {
      "needs_background": "light"
     },
     "output_type": "display_data"
    }
   ],
   "source": [
    "plt.bar([1,2,3], [ca, ta, tc], color= [\"darkred\", \"orangered\", \"crimson\"])\n",
    "plt.xticks([1,2,3], [\"Turtle vs. Alligator\", \"Chicken vs. Alliator\", \"Turtle vs. Chicken\"])\n",
    "plt.xlabel(\"Animals Being Compared\")\n",
    "plt.ylabel(\"Percent\")\n",
    "plt.title(\"Differences in Animal's DNA\")"
   ]
  },
  {
   "cell_type": "code",
   "execution_count": null,
   "metadata": {},
   "outputs": [],
   "source": []
  }
 ],
 "metadata": {
  "kernelspec": {
   "display_name": "Python 3",
   "language": "python",
   "name": "python3"
  },
  "language_info": {
   "codemirror_mode": {
    "name": "ipython",
    "version": 3
   },
   "file_extension": ".py",
   "mimetype": "text/x-python",
   "name": "python",
   "nbconvert_exporter": "python",
   "pygments_lexer": "ipython3",
   "version": "3.7.3"
  }
 },
 "nbformat": 4,
 "nbformat_minor": 2
}
