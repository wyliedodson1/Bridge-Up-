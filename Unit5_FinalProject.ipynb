{
 "cells": [
  {
   "cell_type": "code",
   "execution_count": 85,
   "metadata": {},
   "outputs": [],
   "source": [
    "import pandas as pd\n",
    "import numpy as np\n",
    "import matplotlib.pyplot as plt"
   ]
  },
  {
   "cell_type": "code",
   "execution_count": 5,
   "metadata": {},
   "outputs": [],
   "source": [
    "df = pd.read_csv(\"bird_dino_data.csv\")\n",
    "#df.head()"
   ]
  },
  {
   "cell_type": "code",
   "execution_count": 125,
   "metadata": {},
   "outputs": [],
   "source": [
    "#create new column with the whole brain \n",
    "df [\"Whole Brain (cm3)\"] = df[\"Olfactory bulbs (cm3)\"]+ df[\"Cerebrum (cm3)\"]+ \n",
    "    df[\"Optic Lobes (cm3)\"]+ df[\"Cerebellum (cm3)\"]\n",
    "#df.head()"
   ]
  },
  {
   "cell_type": "code",
   "execution_count": 126,
   "metadata": {},
   "outputs": [],
   "source": [
    "#whole brain to body ratio column 1cm3=1g\n",
    "df[\"Brain to Body Ratio (cm3)\"]= df[\"Whole Brain (cm3)\"]/ df[\"Body Mass (kg)\"]/1000\n",
    "#df.head()"
   ]
  },
  {
   "cell_type": "code",
   "execution_count": 127,
   "metadata": {},
   "outputs": [
    {
     "data": {
      "text/html": [
       "<div>\n",
       "<style scoped>\n",
       "    .dataframe tbody tr th:only-of-type {\n",
       "        vertical-align: middle;\n",
       "    }\n",
       "\n",
       "    .dataframe tbody tr th {\n",
       "        vertical-align: top;\n",
       "    }\n",
       "\n",
       "    .dataframe thead th {\n",
       "        text-align: right;\n",
       "    }\n",
       "</style>\n",
       "<table border=\"1\" class=\"dataframe\">\n",
       "  <thead>\n",
       "    <tr style=\"text-align: right;\">\n",
       "      <th></th>\n",
       "      <th>Species ID</th>\n",
       "      <th>Bird vs Dino</th>\n",
       "      <th>Body Mass (kg)</th>\n",
       "      <th>Olfactory bulbs (cm3)</th>\n",
       "      <th>Cerebrum (cm3)</th>\n",
       "      <th>Optic Lobes (cm3)</th>\n",
       "      <th>Cerebellum (cm3)</th>\n",
       "      <th>Brain Stem (cm3)</th>\n",
       "      <th>Whole Brain (cm3)</th>\n",
       "      <th>Brain to Body Ratio (cm3)</th>\n",
       "      <th>Cerebrum/Whole Brain</th>\n",
       "    </tr>\n",
       "  </thead>\n",
       "  <tbody>\n",
       "    <tr>\n",
       "      <th>0</th>\n",
       "      <td>1</td>\n",
       "      <td>B</td>\n",
       "      <td>0.02</td>\n",
       "      <td>0.009</td>\n",
       "      <td>1.53</td>\n",
       "      <td>0.20</td>\n",
       "      <td>0.16</td>\n",
       "      <td>0.06</td>\n",
       "      <td>1.899</td>\n",
       "      <td>0.094950</td>\n",
       "      <td>0.805687</td>\n",
       "    </tr>\n",
       "    <tr>\n",
       "      <th>1</th>\n",
       "      <td>2</td>\n",
       "      <td>B</td>\n",
       "      <td>1.26</td>\n",
       "      <td>0.006</td>\n",
       "      <td>16.81</td>\n",
       "      <td>2.84</td>\n",
       "      <td>1.70</td>\n",
       "      <td>0.68</td>\n",
       "      <td>21.356</td>\n",
       "      <td>0.016949</td>\n",
       "      <td>0.787132</td>\n",
       "    </tr>\n",
       "    <tr>\n",
       "      <th>2</th>\n",
       "      <td>3</td>\n",
       "      <td>B</td>\n",
       "      <td>2.18</td>\n",
       "      <td>0.026</td>\n",
       "      <td>11.08</td>\n",
       "      <td>1.95</td>\n",
       "      <td>0.89</td>\n",
       "      <td>1.15</td>\n",
       "      <td>13.946</td>\n",
       "      <td>0.006397</td>\n",
       "      <td>0.794493</td>\n",
       "    </tr>\n",
       "    <tr>\n",
       "      <th>3</th>\n",
       "      <td>4</td>\n",
       "      <td>D</td>\n",
       "      <td>0.25</td>\n",
       "      <td>0.050</td>\n",
       "      <td>0.41</td>\n",
       "      <td>0.16</td>\n",
       "      <td>0.09</td>\n",
       "      <td>0.12</td>\n",
       "      <td>0.710</td>\n",
       "      <td>0.002840</td>\n",
       "      <td>0.577465</td>\n",
       "    </tr>\n",
       "    <tr>\n",
       "      <th>4</th>\n",
       "      <td>5</td>\n",
       "      <td>B</td>\n",
       "      <td>0.01</td>\n",
       "      <td>0.003</td>\n",
       "      <td>1.57</td>\n",
       "      <td>0.20</td>\n",
       "      <td>0.34</td>\n",
       "      <td>0.08</td>\n",
       "      <td>2.113</td>\n",
       "      <td>0.211300</td>\n",
       "      <td>0.743019</td>\n",
       "    </tr>\n",
       "  </tbody>\n",
       "</table>\n",
       "</div>"
      ],
      "text/plain": [
       "   Species ID Bird vs Dino  Body Mass (kg)  Olfactory bulbs (cm3)  \\\n",
       "0           1            B            0.02                  0.009   \n",
       "1           2            B            1.26                  0.006   \n",
       "2           3            B            2.18                  0.026   \n",
       "3           4            D            0.25                  0.050   \n",
       "4           5            B            0.01                  0.003   \n",
       "\n",
       "   Cerebrum (cm3)  Optic Lobes (cm3)  Cerebellum (cm3)  Brain Stem (cm3)  \\\n",
       "0            1.53               0.20              0.16              0.06   \n",
       "1           16.81               2.84              1.70              0.68   \n",
       "2           11.08               1.95              0.89              1.15   \n",
       "3            0.41               0.16              0.09              0.12   \n",
       "4            1.57               0.20              0.34              0.08   \n",
       "\n",
       "   Whole Brain (cm3)  Brain to Body Ratio (cm3)  Cerebrum/Whole Brain  \n",
       "0              1.899                   0.094950              0.805687  \n",
       "1             21.356                   0.016949              0.787132  \n",
       "2             13.946                   0.006397              0.794493  \n",
       "3              0.710                   0.002840              0.577465  \n",
       "4              2.113                   0.211300              0.743019  "
      ]
     },
     "execution_count": 127,
     "metadata": {},
     "output_type": "execute_result"
    }
   ],
   "source": [
    "#cerebrum to whole brain ratio column \n",
    "df[\"Cerebrum/Whole Brain\"]= df[\"Cerebrum (cm3)\"]/ df[\"Whole Brain (cm3)\"]\n",
    "df.head()"
   ]
  },
  {
   "cell_type": "code",
   "execution_count": 128,
   "metadata": {},
   "outputs": [],
   "source": [
    "#seperate based on animal \n",
    "B= df.loc[df[\"Bird vs Dino\"]== \"B\"]\n",
    "D= df.loc[df[\"Bird vs Dino\"]== \"D\"]"
   ]
  },
  {
   "cell_type": "code",
   "execution_count": 129,
   "metadata": {},
   "outputs": [
    {
     "name": "stdout",
     "output_type": "stream",
     "text": [
      "0.045170238698633944\n",
      "0.0014002983908859297\n",
      "0.7094430277327214\n",
      "0.5479339483969496\n"
     ]
    }
   ],
   "source": [
    "#find bird and dino average for both ratios \n",
    "B_brain2body= B[\"Brain to Body Ratio (cm3)\"].mean()\n",
    "print(B_brain2body)\n",
    "D_brain2body= D[\"Brain to Body Ratio (cm3)\"].mean()\n",
    "print(D_brain2body)\n",
    "B_cerebrum2brain= B[\"Cerebrum/Whole Brain\"].mean()\n",
    "print(B_cerebrum2brain)\n",
    "D_cerebrum2brain= D[\"Cerebrum/Whole Brain\"].mean()\n",
    "print(D_cerebrum2brain)"
   ]
  },
  {
   "cell_type": "code",
   "execution_count": 130,
   "metadata": {},
   "outputs": [],
   "source": [
    "#find brain/body mass and cerebrum/brain for our brain \n",
    "#function- femur length in mm\n",
    "#output in kg\n",
    "def convert(dino_type, femur_length):\n",
    "    if dino_type== \"ornithischian\":\n",
    "        return 10**(3.0587*np.log10(femur_length)-2.7042)/1000\n",
    "    elif dino_type== \"sauropod\":\n",
    "        return 10**(2.3459*np.log10(femur_length)-0.2935)/1000\n",
    "    elif dino_type== \"theropod\":\n",
    "        return 10**(3.1854*np.log10(femur_length)-3.184)/1000"
   ]
  },
  {
   "cell_type": "code",
   "execution_count": 131,
   "metadata": {},
   "outputs": [
    {
     "data": {
      "text/plain": [
       "0.010660985224533874"
      ]
     },
     "execution_count": 131,
     "metadata": {},
     "output_type": "execute_result"
    }
   ],
   "source": [
    "convert(\"theropod\", 21)"
   ]
  },
  {
   "cell_type": "code",
   "execution_count": 132,
   "metadata": {},
   "outputs": [],
   "source": [
    "#unit- cm \n",
    "X_body= convert(\"theropod\", 21)\n",
    "X_olfactory= 0.3\n",
    "X_cerebrum= 2.1\n",
    "X_optic= 1.5\n",
    "X_cerebellum= 0.6\n",
    "X_wbw= X_olfactory + X_cerebrum + X_optic + X_cerebellum\n",
    "#unit- cubic cm\n",
    "X_brain= 2.2"
   ]
  },
  {
   "cell_type": "code",
   "execution_count": 133,
   "metadata": {},
   "outputs": [
    {
     "name": "stdout",
     "output_type": "stream",
     "text": [
      "4.5\n"
     ]
    }
   ],
   "source": [
    "print(X_wbw)"
   ]
  },
  {
   "cell_type": "code",
   "execution_count": 134,
   "metadata": {},
   "outputs": [
    {
     "name": "stdout",
     "output_type": "stream",
     "text": [
      "10.660985224533874\n"
     ]
    }
   ],
   "source": [
    "X_body_g= X_body*1000\n",
    "print(X_body_g)"
   ]
  },
  {
   "cell_type": "code",
   "execution_count": 135,
   "metadata": {},
   "outputs": [
    {
     "name": "stdout",
     "output_type": "stream",
     "text": [
      "0.20635991455435018\n"
     ]
    }
   ],
   "source": [
    "X_brain2body= (X_brain/X_body_g)\n",
    "print(X_brain2body)"
   ]
  },
  {
   "cell_type": "code",
   "execution_count": 136,
   "metadata": {},
   "outputs": [
    {
     "name": "stdout",
     "output_type": "stream",
     "text": [
      "0.4666666666666667\n"
     ]
    }
   ],
   "source": [
    "X_cerebrum2brain= X_cerebrum/X_wbw\n",
    "print(X_cerebrum2brain)"
   ]
  },
  {
   "cell_type": "code",
   "execution_count": 137,
   "metadata": {},
   "outputs": [],
   "source": [
    "#compare to averages\n",
    "def compare(fl, bv, cw, wbw):\n",
    "    mass = convert(\"theropod\", fl)\n",
    "    brain2body = wbw/mass*1000\n",
    "    cerebrum2brain = cw/wbw\n",
    "    if abs(brain2body-B_brain2body)> abs(brain2body-D_brain2body):\n",
    "         B2B_ans = \"Dino\"\n",
    "    else:\n",
    "        B2B_ans = \"Bird\"\n",
    "    \n",
    "    if abs(cerebrum2brain-B_cerebrum2brain)> abs(cerebrum2brain-D_cerebrum2brain):\n",
    "        C2B_ans = \"Dino\"\n",
    "    else:\n",
    "        C2B_ans =\"Bird\"\n",
    "    return [B2B_ans, C2B_ans]"
   ]
  },
  {
   "cell_type": "code",
   "execution_count": 138,
   "metadata": {},
   "outputs": [
    {
     "name": "stdout",
     "output_type": "stream",
     "text": [
      "['Bird', 'Dino']\n"
     ]
    }
   ],
   "source": [
    "print(compare(2.1, 2.2, 2.1, 4.5))"
   ]
  },
  {
   "cell_type": "code",
   "execution_count": 139,
   "metadata": {},
   "outputs": [
    {
     "name": "stdout",
     "output_type": "stream",
     "text": [
      "0.16118967585571625\n",
      "-0.08126728173028297\n"
     ]
    }
   ],
   "source": [
    "print(X_brain2body-B_brain2body)\n",
    "print(X_cerebrum2brain-D_cerebrum2brain)"
   ]
  },
  {
   "cell_type": "code",
   "execution_count": 145,
   "metadata": {},
   "outputs": [
    {
     "data": {
      "image/png": "[encoded data removed]",
      "text/plain": [
       "<Figure size 432x288 with 1 Axes>"
      ]
     },
     "metadata": {
      "needs_background": "light"
     },
     "output_type": "display_data"
    }
   ],
   "source": [
    "plt.scatter(B[\"Body Mass (kg)\"], B[\"Whole Brain (cm3)\"], color = \"blue\", label = \"Bird\")\n",
    "plt.scatter(X_body, X_wbw, color = \"orange\", label = \"X\", marker= \"*\", s=200)\n",
    "plt.scatter(D[\"Body Mass (kg)\"], D[\"Whole Brain (cm3)\"], color = \"green\", label = \"Dino\")\n",
    "plt.title(\"Brain to Body Ratio\")\n",
    "plt.legend(loc= \"upper left\")\n",
    "plt.xlabel(\"Whole Brain (cm3)\")\n",
    "plt.ylabel(\"Body Mass (kg)\")\n",
    "plt.show()"
   ]
  },
  {
   "cell_type": "code",
   "execution_count": 146,
   "metadata": {},
   "outputs": [
    {
     "data": {
      "image/png": "[encoded data removed]",
      "text/plain": [
       "<Figure size 432x288 with 1 Axes>"
      ]
     },
     "metadata": {
      "needs_background": "light"
     },
     "output_type": "display_data"
    }
   ],
   "source": [
    "plt.scatter(B[\"Whole Brain (cm3)\"], B[\"Cerebrum (cm3)\"], color = \"blue\", label = \"Bird\")\n",
    "plt.scatter(X_wbw, X_cerebrum, color = \"orange\", label = \"X\", marker= \"*\", s=200)\n",
    "plt.scatter(D[\"Whole Brain (cm3)\"], D[\"Cerebrum (cm3)\"], color = \"green\", label = \"Dino\")\n",
    "plt.xlabel(\"Whole Brain (cm3)\")\n",
    "plt.ylabel(\"Cerebrum (cm3)\")\n",
    "plt.title(\"Cerebrum to Whole Brain Ratio\")\n",
    "plt.legend()\n",
    "plt.show()"
   ]
  },
  {
   "cell_type": "code",
   "execution_count": 148,
   "metadata": {},
   "outputs": [
    {
     "data": {
      "image/png": "[encoded data removed]",
      "text/plain": [
       "<Figure size 432x288 with 1 Axes>"
      ]
     },
     "metadata": {
      "needs_background": "light"
     },
     "output_type": "display_data"
    }
   ],
   "source": [
    "plt.scatter(B[\"Cerebrum (cm3)\"]/B[\"Whole Brain (cm3)\"], B[\"Whole Brain (cm3)\"]/ B[\"Body Mass (kg)\"], color = \"blue\", label = \"Bird\")\n",
    "plt.scatter(X_cerebrum2brain, X_brain2body, color = \"orange\", label = \"X\", marker= \"*\", s=200)\n",
    "plt.scatter(D[\"Cerebrum (cm3)\"]/D[\"Whole Brain (cm3)\"], D[\"Whole Brain (cm3)\"]/ D[\"Body Mass (kg)\"], color = \"green\", label = \"Dino\")\n",
    "plt.xlabel(\"Cerebrum to Whole Brain Ratio\")\n",
    "plt.ylabel(\"Brain to Body Ratio\")\n",
    "plt.title(\"Cerebrum/Whole Brain Ratio to Brain/Body Ratio\")\n",
    "plt.legend(loc= \"upper left\")\n",
    "plt.show()"
   ]
  },
  {
   "cell_type": "code",
   "execution_count": null,
   "metadata": {},
   "outputs": [],
   "source": []
  }
 ],
 "metadata": {
  "kernelspec": {
   "display_name": "Python 3",
   "language": "python",
   "name": "python3"
  },
  "language_info": {
   "codemirror_mode": {
    "name": "ipython",
    "version": 3
   },
   "file_extension": ".py",
   "mimetype": "text/x-python",
   "name": "python",
   "nbconvert_exporter": "python",
   "pygments_lexer": "ipython3",
   "version": "3.7.3"
  }
 },
 "nbformat": 4,
 "nbformat_minor": 2
}
